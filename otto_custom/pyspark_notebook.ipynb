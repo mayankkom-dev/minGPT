{
 "cells": [
  {
   "cell_type": "code",
   "execution_count": 7,
   "metadata": {},
   "outputs": [
    {
     "name": "stdout",
     "output_type": "stream",
     "text": [
      "Collecting polars\n",
      "  Downloading polars-0.15.14-cp37-abi3-win_amd64.whl (15.8 MB)\n",
      "     ---------------------------------------- 15.8/15.8 MB 3.1 MB/s eta 0:00:00\n",
      "Requirement already satisfied: typing_extensions>=4.0.0 in c:\\users\\mayan\\anaconda3\\envs\\otto_pyenv\\lib\\site-packages (from polars) (4.4.0)\n",
      "Installing collected packages: polars\n",
      "Successfully installed polars-0.15.14\n"
     ]
    }
   ],
   "source": [
    "# ! pip install polars"
   ]
  },
  {
   "cell_type": "code",
   "execution_count": 5,
   "metadata": {},
   "outputs": [],
   "source": [
    "import gc\n",
    "import polars as pl"
   ]
  },
  {
   "cell_type": "code",
   "execution_count": 6,
   "metadata": {},
   "outputs": [],
   "source": [
    "train = pl.read_parquet('archive/train.parquet')"
   ]
  },
  {
   "cell_type": "code",
   "execution_count": 7,
   "metadata": {},
   "outputs": [
    {
     "data": {
      "text/html": [
       "<div>\n",
       "<style scoped>\n",
       "    .dataframe tbody tr th:only-of-type {\n",
       "        vertical-align: middle;\n",
       "    }\n",
       "\n",
       "    .dataframe tbody tr th {\n",
       "        vertical-align: top;\n",
       "    }\n",
       "\n",
       "    .dataframe thead th {\n",
       "        text-align: right;\n",
       "    }\n",
       "\n",
       "    .dataframe td {\n",
       "        white-space: pre;\n",
       "    }\n",
       "\n",
       "    .dataframe td {\n",
       "        padding-top: 0;\n",
       "    }\n",
       "\n",
       "    .dataframe td {\n",
       "        padding-bottom: 0;\n",
       "    }\n",
       "</style>\n",
       "<table border=\"1\" class=\"dataframe\">\n",
       "<small>shape: (5, 4)</small>\n",
       "<thead>\n",
       "<tr>\n",
       "<th>\n",
       "session\n",
       "</th>\n",
       "<th>\n",
       "aid\n",
       "</th>\n",
       "<th>\n",
       "ts\n",
       "</th>\n",
       "<th>\n",
       "type\n",
       "</th>\n",
       "</tr>\n",
       "<tr>\n",
       "<td>\n",
       "i32\n",
       "</td>\n",
       "<td>\n",
       "i32\n",
       "</td>\n",
       "<td>\n",
       "i32\n",
       "</td>\n",
       "<td>\n",
       "u8\n",
       "</td>\n",
       "</tr>\n",
       "</thead>\n",
       "<tbody>\n",
       "<tr>\n",
       "<td>\n",
       "0\n",
       "</td>\n",
       "<td>\n",
       "1517085\n",
       "</td>\n",
       "<td>\n",
       "1659304800\n",
       "</td>\n",
       "<td>\n",
       "0\n",
       "</td>\n",
       "</tr>\n",
       "<tr>\n",
       "<td>\n",
       "0\n",
       "</td>\n",
       "<td>\n",
       "1563459\n",
       "</td>\n",
       "<td>\n",
       "1659304904\n",
       "</td>\n",
       "<td>\n",
       "0\n",
       "</td>\n",
       "</tr>\n",
       "<tr>\n",
       "<td>\n",
       "0\n",
       "</td>\n",
       "<td>\n",
       "1309446\n",
       "</td>\n",
       "<td>\n",
       "1659367439\n",
       "</td>\n",
       "<td>\n",
       "0\n",
       "</td>\n",
       "</tr>\n",
       "<tr>\n",
       "<td>\n",
       "0\n",
       "</td>\n",
       "<td>\n",
       "16246\n",
       "</td>\n",
       "<td>\n",
       "1659367719\n",
       "</td>\n",
       "<td>\n",
       "0\n",
       "</td>\n",
       "</tr>\n",
       "<tr>\n",
       "<td>\n",
       "0\n",
       "</td>\n",
       "<td>\n",
       "1781822\n",
       "</td>\n",
       "<td>\n",
       "1659367871\n",
       "</td>\n",
       "<td>\n",
       "0\n",
       "</td>\n",
       "</tr>\n",
       "</tbody>\n",
       "</table>\n",
       "</div>"
      ],
      "text/plain": [
       "shape: (5, 4)\n",
       "┌─────────┬─────────┬────────────┬──────┐\n",
       "│ session ┆ aid     ┆ ts         ┆ type │\n",
       "│ ---     ┆ ---     ┆ ---        ┆ ---  │\n",
       "│ i32     ┆ i32     ┆ i32        ┆ u8   │\n",
       "╞═════════╪═════════╪════════════╪══════╡\n",
       "│ 0       ┆ 1517085 ┆ 1659304800 ┆ 0    │\n",
       "│ 0       ┆ 1563459 ┆ 1659304904 ┆ 0    │\n",
       "│ 0       ┆ 1309446 ┆ 1659367439 ┆ 0    │\n",
       "│ 0       ┆ 16246   ┆ 1659367719 ┆ 0    │\n",
       "│ 0       ┆ 1781822 ┆ 1659367871 ┆ 0    │\n",
       "└─────────┴─────────┴────────────┴──────┘"
      ]
     },
     "execution_count": 7,
     "metadata": {},
     "output_type": "execute_result"
    }
   ],
   "source": [
    "train.head()"
   ]
  },
  {
   "cell_type": "code",
   "execution_count": 24,
   "metadata": {},
   "outputs": [
    {
     "name": "stderr",
     "output_type": "stream",
     "text": [
      "c:\\Users\\mayan\\anaconda3\\envs\\otto_pyenv\\lib\\site-packages\\pyarrow\\compute.py:198: RuntimeWarning: Python binding for CumulativeSumOptions not exposed\n",
      "  .format(class_name), RuntimeWarning)\n",
      "c:\\Users\\mayan\\anaconda3\\envs\\otto_pyenv\\lib\\site-packages\\pyarrow\\compute.py:198: RuntimeWarning: Python binding for RankOptions not exposed\n",
      "  .format(class_name), RuntimeWarning)\n"
     ]
    }
   ],
   "source": [
    "\n",
    "    sentences_df =  train.sort(\n",
    "                                by='ts'\n",
    "                            ).groupby(\n",
    "                                'session'\n",
    "                            ).agg(\n",
    "                                [pl.col('aid').alias('aid_list'),\n",
    "                                pl.col('type').alias('type_list')]\n",
    "                            )                    \n",
    "    sentences_df = sentences_df.to_pandas()"
   ]
  },
  {
   "cell_type": "code",
   "execution_count": 31,
   "metadata": {},
   "outputs": [
    {
     "data": {
      "text/plain": [
       "[array([1032480,  127024, 1645990,  497634,  119874,   43313,  779541,\n",
       "          43313,  240796, 1039223, 1039223, 1039223,  240796, 1039223,\n",
       "         911920, 1750671,   43313, 1054516,  240796,  240796, 1500705,\n",
       "        1032480, 1032480, 1500705,   43313,  249219,  249219,  249219,\n",
       "         249219,  249219, 1633206, 1633206, 1253390, 1338993, 1338993,\n",
       "        1698825, 1698825,  794192,   59455,   59455, 1580498, 1580498,\n",
       "         807444,   59455, 1580498, 1580498, 1580498, 1538029,  807444,\n",
       "         672106,  672106,  794192, 1698825, 1338993,  441090, 1580498,\n",
       "         807569,  807569,  807569,  832192,  832192,  832192,  832192,\n",
       "         832192,  832192,  832192,  832192,  121424,  832192, 1349900,\n",
       "        1298438,  507904,  665609,  147484,  904489,  904489,  850265,\n",
       "         324163,  949670,  949670,  949670,  949670, 1192664, 1517720])]"
      ]
     },
     "execution_count": 31,
     "metadata": {},
     "output_type": "execute_result"
    }
   ],
   "source": [
    "sentences_df[sentences_df['session']==778465]['aid_list'].tolist()"
   ]
  },
  {
   "cell_type": "code",
   "execution_count": 26,
   "metadata": {},
   "outputs": [
    {
     "data": {
      "text/plain": [
       "2872216"
      ]
     },
     "execution_count": 26,
     "metadata": {},
     "output_type": "execute_result"
    }
   ],
   "source": [
    "import sys\n",
    "sys.getsizeof(sentences_df) // 1024"
   ]
  },
  {
   "cell_type": "code",
   "execution_count": 12,
   "metadata": {},
   "outputs": [],
   "source": [
    "q = (\n",
    "    train\n",
    "    .filter(\n",
    "        pl.col('session').is_in(list(range(10000)))\n",
    "    ).sort(\n",
    "        by='ts'\n",
    "    ).groupby(by='session')\n",
    "    .agg(\n",
    "         [pl.col('aid').alias('aid_list'),\n",
    "            pl.col('type').alias('type_list')]\n",
    "    )   \n",
    ")"
   ]
  },
  {
   "cell_type": "code",
   "execution_count": 13,
   "metadata": {},
   "outputs": [
    {
     "name": "stderr",
     "output_type": "stream",
     "text": [
      "c:\\Users\\mayan\\anaconda3\\envs\\otto_pyenv\\lib\\site-packages\\pyarrow\\compute.py:198: RuntimeWarning: Python binding for CumulativeSumOptions not exposed\n",
      "  .format(class_name), RuntimeWarning)\n",
      "c:\\Users\\mayan\\anaconda3\\envs\\otto_pyenv\\lib\\site-packages\\pyarrow\\compute.py:198: RuntimeWarning: Python binding for RankOptions not exposed\n",
      "  .format(class_name), RuntimeWarning)\n"
     ]
    }
   ],
   "source": [
    "t = q.to_pandas()"
   ]
  },
  {
   "cell_type": "code",
   "execution_count": 15,
   "metadata": {},
   "outputs": [
    {
     "data": {
      "text/plain": [
       "session                                                   1440\n",
       "aid_list     [731754, 1048811, 631311, 631311, 1191272, 797...\n",
       "type_list    [0, 2, 0, 0, 0, 0, 0, 0, 1, 1, 1, 0, 0, 1, 0, ...\n",
       "Name: 0, dtype: object"
      ]
     },
     "execution_count": 15,
     "metadata": {},
     "output_type": "execute_result"
    }
   ],
   "source": [
    "t.iloc[0]"
   ]
  },
  {
   "cell_type": "code",
   "execution_count": 14,
   "metadata": {},
   "outputs": [
    {
     "data": {
      "text/html": [
       "<div>\n",
       "<style scoped>\n",
       "    .dataframe tbody tr th:only-of-type {\n",
       "        vertical-align: middle;\n",
       "    }\n",
       "\n",
       "    .dataframe tbody tr th {\n",
       "        vertical-align: top;\n",
       "    }\n",
       "\n",
       "    .dataframe thead th {\n",
       "        text-align: right;\n",
       "    }\n",
       "</style>\n",
       "<table border=\"1\" class=\"dataframe\">\n",
       "  <thead>\n",
       "    <tr style=\"text-align: right;\">\n",
       "      <th></th>\n",
       "      <th>session</th>\n",
       "      <th>aid_list</th>\n",
       "      <th>type_list</th>\n",
       "    </tr>\n",
       "  </thead>\n",
       "  <tbody>\n",
       "    <tr>\n",
       "      <th>0</th>\n",
       "      <td>1440</td>\n",
       "      <td>[731754, 1048811, 631311, 631311, 1191272, 797...</td>\n",
       "      <td>[0, 2, 0, 0, 0, 0, 0, 0, 1, 1, 1, 0, 0, 1, 0, ...</td>\n",
       "    </tr>\n",
       "    <tr>\n",
       "      <th>1</th>\n",
       "      <td>3200</td>\n",
       "      <td>[516077, 176984, 600193, 258633, 1279467, 1532...</td>\n",
       "      <td>[0, 0, 0, 0, 0, 0, 0, 0, 0, 0, 0, 0, 0, 0, 0, ...</td>\n",
       "    </tr>\n",
       "    <tr>\n",
       "      <th>2</th>\n",
       "      <td>992</td>\n",
       "      <td>[573104, 370458, 792945, 645257, 485799, 24363...</td>\n",
       "      <td>[0, 0, 0, 0, 0, 0, 0, 0, 0, 0, 0, 0, 0, 0, 0, ...</td>\n",
       "    </tr>\n",
       "    <tr>\n",
       "      <th>3</th>\n",
       "      <td>640</td>\n",
       "      <td>[1032830, 597201, 677031, 948296, 707257, 1104...</td>\n",
       "      <td>[0, 0, 0, 0, 0, 0, 0, 0, 0, 0, 0, 0, 0, 0, 0, ...</td>\n",
       "    </tr>\n",
       "    <tr>\n",
       "      <th>4</th>\n",
       "      <td>8608</td>\n",
       "      <td>[1824710, 1824710, 481072]</td>\n",
       "      <td>[0, 0, 0]</td>\n",
       "    </tr>\n",
       "    <tr>\n",
       "      <th>...</th>\n",
       "      <td>...</td>\n",
       "      <td>...</td>\n",
       "      <td>...</td>\n",
       "    </tr>\n",
       "    <tr>\n",
       "      <th>9995</th>\n",
       "      <td>3489</td>\n",
       "      <td>[70727, 845272, 707236, 1016290, 1753882, 9435...</td>\n",
       "      <td>[0, 0, 0, 0, 0, 0, 0, 0, 0, 0, 0, 0, 0, 0, 0, ...</td>\n",
       "    </tr>\n",
       "    <tr>\n",
       "      <th>9996</th>\n",
       "      <td>4417</td>\n",
       "      <td>[423010, 423010, 1754941, 1743151, 1605487, 32...</td>\n",
       "      <td>[0, 0, 0, 0, 0, 0, 0, 0, 0, 0, 0, 0, 0, 0, 0, ...</td>\n",
       "    </tr>\n",
       "    <tr>\n",
       "      <th>9997</th>\n",
       "      <td>3905</td>\n",
       "      <td>[1704678, 1225528, 1604271, 1604271, 1604271, ...</td>\n",
       "      <td>[0, 0, 0, 1, 0, 0, 1, 0, 0, 0, 0, 0, 0, 0, 0, ...</td>\n",
       "    </tr>\n",
       "    <tr>\n",
       "      <th>9998</th>\n",
       "      <td>6977</td>\n",
       "      <td>[199746, 1231259, 327063, 876556]</td>\n",
       "      <td>[0, 0, 0, 0]</td>\n",
       "    </tr>\n",
       "    <tr>\n",
       "      <th>9999</th>\n",
       "      <td>1633</td>\n",
       "      <td>[496180, 140045, 1226118, 672432, 252278, 7852...</td>\n",
       "      <td>[0, 0, 0, 0, 0, 0, 0, 0, 0, 0, 0, 0, 0, 0, 0, ...</td>\n",
       "    </tr>\n",
       "  </tbody>\n",
       "</table>\n",
       "<p>10000 rows × 3 columns</p>\n",
       "</div>"
      ],
      "text/plain": [
       "      session                                           aid_list  \\\n",
       "0        1440  [731754, 1048811, 631311, 631311, 1191272, 797...   \n",
       "1        3200  [516077, 176984, 600193, 258633, 1279467, 1532...   \n",
       "2         992  [573104, 370458, 792945, 645257, 485799, 24363...   \n",
       "3         640  [1032830, 597201, 677031, 948296, 707257, 1104...   \n",
       "4        8608                         [1824710, 1824710, 481072]   \n",
       "...       ...                                                ...   \n",
       "9995     3489  [70727, 845272, 707236, 1016290, 1753882, 9435...   \n",
       "9996     4417  [423010, 423010, 1754941, 1743151, 1605487, 32...   \n",
       "9997     3905  [1704678, 1225528, 1604271, 1604271, 1604271, ...   \n",
       "9998     6977                  [199746, 1231259, 327063, 876556]   \n",
       "9999     1633  [496180, 140045, 1226118, 672432, 252278, 7852...   \n",
       "\n",
       "                                              type_list  \n",
       "0     [0, 2, 0, 0, 0, 0, 0, 0, 1, 1, 1, 0, 0, 1, 0, ...  \n",
       "1     [0, 0, 0, 0, 0, 0, 0, 0, 0, 0, 0, 0, 0, 0, 0, ...  \n",
       "2     [0, 0, 0, 0, 0, 0, 0, 0, 0, 0, 0, 0, 0, 0, 0, ...  \n",
       "3     [0, 0, 0, 0, 0, 0, 0, 0, 0, 0, 0, 0, 0, 0, 0, ...  \n",
       "4                                             [0, 0, 0]  \n",
       "...                                                 ...  \n",
       "9995  [0, 0, 0, 0, 0, 0, 0, 0, 0, 0, 0, 0, 0, 0, 0, ...  \n",
       "9996  [0, 0, 0, 0, 0, 0, 0, 0, 0, 0, 0, 0, 0, 0, 0, ...  \n",
       "9997  [0, 0, 0, 1, 0, 0, 1, 0, 0, 0, 0, 0, 0, 0, 0, ...  \n",
       "9998                                       [0, 0, 0, 0]  \n",
       "9999  [0, 0, 0, 0, 0, 0, 0, 0, 0, 0, 0, 0, 0, 0, 0, ...  \n",
       "\n",
       "[10000 rows x 3 columns]"
      ]
     },
     "execution_count": 14,
     "metadata": {},
     "output_type": "execute_result"
    }
   ],
   "source": [
    "t"
   ]
  },
  {
   "cell_type": "code",
   "execution_count": 23,
   "metadata": {},
   "outputs": [
    {
     "data": {
      "text/html": [
       "<div>\n",
       "<style scoped>\n",
       "    .dataframe tbody tr th:only-of-type {\n",
       "        vertical-align: middle;\n",
       "    }\n",
       "\n",
       "    .dataframe tbody tr th {\n",
       "        vertical-align: top;\n",
       "    }\n",
       "\n",
       "    .dataframe thead th {\n",
       "        text-align: right;\n",
       "    }\n",
       "\n",
       "    .dataframe td {\n",
       "        white-space: pre;\n",
       "    }\n",
       "\n",
       "    .dataframe td {\n",
       "        padding-top: 0;\n",
       "    }\n",
       "\n",
       "    .dataframe td {\n",
       "        padding-bottom: 0;\n",
       "    }\n",
       "</style>\n",
       "<table border=\"1\" class=\"dataframe\">\n",
       "<small>shape: (1, 3)</small>\n",
       "<thead>\n",
       "<tr>\n",
       "<th>\n",
       "session\n",
       "</th>\n",
       "<th>\n",
       "aid_list\n",
       "</th>\n",
       "<th>\n",
       "type_list\n",
       "</th>\n",
       "</tr>\n",
       "<tr>\n",
       "<td>\n",
       "i32\n",
       "</td>\n",
       "<td>\n",
       "list[i32]\n",
       "</td>\n",
       "<td>\n",
       "list[u8]\n",
       "</td>\n",
       "</tr>\n",
       "</thead>\n",
       "<tbody>\n",
       "<tr>\n",
       "<td>\n",
       "10902\n",
       "</td>\n",
       "<td>\n",
       "[546756, 546756, ... 543961]\n",
       "</td>\n",
       "<td>\n",
       "[0, 0, ... 0]\n",
       "</td>\n",
       "</tr>\n",
       "</tbody>\n",
       "</table>\n",
       "</div>"
      ],
      "text/plain": [
       "shape: (1, 3)\n",
       "┌─────────┬──────────────────────────────┬───────────────┐\n",
       "│ session ┆ aid_list                     ┆ type_list     │\n",
       "│ ---     ┆ ---                          ┆ ---           │\n",
       "│ i32     ┆ list[i32]                    ┆ list[u8]      │\n",
       "╞═════════╪══════════════════════════════╪═══════════════╡\n",
       "│ 10902   ┆ [546756, 546756, ... 543961] ┆ [0, 0, ... 0] │\n",
       "└─────────┴──────────────────────────────┴───────────────┘"
      ]
     },
     "execution_count": 23,
     "metadata": {},
     "output_type": "execute_result"
    }
   ],
   "source": [
    "q.filter(\n",
    "        pl.col('session')==10902        \n",
    "    ).collect()"
   ]
  },
  {
   "cell_type": "code",
   "execution_count": 3,
   "metadata": {},
   "outputs": [],
   "source": [
    "sentences_df =  train.groupby('session').agg(\n",
    "    [pl.col('aid').alias('aid_list'),\n",
    "    pl.col('type').alias('type_list')]\n",
    ")"
   ]
  },
  {
   "cell_type": "code",
   "execution_count": 6,
   "metadata": {},
   "outputs": [
    {
     "ename": "ValueError",
     "evalue": "Cannot __getitem__ on DataFrame with item: 'shape: (216716096,)\nSeries: 'session' [bool]\n[\n\ttrue\n\ttrue\n\ttrue\n\ttrue\n\ttrue\n\ttrue\n\ttrue\n\ttrue\n\ttrue\n\ttrue\n\ttrue\n\ttrue\n\t...\n\tfalse\n\tfalse\n\tfalse\n\tfalse\n\tfalse\n\tfalse\n\tfalse\n\tfalse\n\tfalse\n\tfalse\n\tfalse\n\tfalse\n\tfalse\n]' of type: '<class 'polars.internals.series.series.Series'>'.",
     "output_type": "error",
     "traceback": [
      "\u001b[1;31m---------------------------------------------------------------------------\u001b[0m",
      "\u001b[1;31mValueError\u001b[0m                                Traceback (most recent call last)",
      "\u001b[1;32m~\\AppData\\Local\\Temp\\ipykernel_5556\\1870245474.py\u001b[0m in \u001b[0;36m<module>\u001b[1;34m\u001b[0m\n\u001b[1;32m----> 1\u001b[1;33m \u001b[0mtrain\u001b[0m\u001b[1;33m[\u001b[0m\u001b[0mtrain\u001b[0m\u001b[1;33m[\u001b[0m\u001b[1;34m'session'\u001b[0m\u001b[1;33m]\u001b[0m\u001b[1;33m==\u001b[0m\u001b[1;36m0\u001b[0m\u001b[1;33m]\u001b[0m\u001b[1;33m\u001b[0m\u001b[0m\n\u001b[0m",
      "\u001b[1;32mc:\\Users\\mayan\\anaconda3\\envs\\otto_pyenv\\lib\\site-packages\\polars\\internals\\dataframe\\frame.py\u001b[0m in \u001b[0;36m__getitem__\u001b[1;34m(self, item)\u001b[0m\n\u001b[0;32m   1385\u001b[0m         \u001b[1;31m# if no data has been returned, the operation is not supported\u001b[0m\u001b[1;33m\u001b[0m\u001b[1;33m\u001b[0m\u001b[0m\n\u001b[0;32m   1386\u001b[0m         raise ValueError(\n\u001b[1;32m-> 1387\u001b[1;33m             \u001b[1;34mf\"Cannot __getitem__ on DataFrame with item: '{item}'\"\u001b[0m\u001b[1;33m\u001b[0m\u001b[0m\n\u001b[0m\u001b[0;32m   1388\u001b[0m             \u001b[1;34mf\" of type: '{type(item)}'.\"\u001b[0m\u001b[1;33m\u001b[0m\u001b[0m\n\u001b[0;32m   1389\u001b[0m         )\n",
      "\u001b[1;31mValueError\u001b[0m: Cannot __getitem__ on DataFrame with item: 'shape: (216716096,)\nSeries: 'session' [bool]\n[\n\ttrue\n\ttrue\n\ttrue\n\ttrue\n\ttrue\n\ttrue\n\ttrue\n\ttrue\n\ttrue\n\ttrue\n\ttrue\n\ttrue\n\t...\n\tfalse\n\tfalse\n\tfalse\n\tfalse\n\tfalse\n\tfalse\n\tfalse\n\tfalse\n\tfalse\n\tfalse\n\tfalse\n\tfalse\n\tfalse\n]' of type: '<class 'polars.internals.series.series.Series'>'."
     ]
    }
   ],
   "source": [
    "train[train['session']==0] "
   ]
  },
  {
   "cell_type": "code",
   "execution_count": 4,
   "metadata": {},
   "outputs": [
    {
     "ename": "ConnectionRefusedError",
     "evalue": "[WinError 10061] No connection could be made because the target machine actively refused it",
     "output_type": "error",
     "traceback": [
      "\u001b[1;31m---------------------------------------------------------------------------\u001b[0m",
      "\u001b[1;31mConnectionRefusedError\u001b[0m                    Traceback (most recent call last)",
      "\u001b[1;32m~\\AppData\\Local\\Temp\\ipykernel_26568\\23734312.py\u001b[0m in \u001b[0;36m<module>\u001b[1;34m\u001b[0m\n\u001b[1;32m----> 1\u001b[1;33m (sparkDF.head(10000)\n\u001b[0m\u001b[0;32m      2\u001b[0m   \u001b[1;33m.\u001b[0m\u001b[0mgroupby\u001b[0m\u001b[1;33m(\u001b[0m\u001b[1;34m\"session\"\u001b[0m\u001b[1;33m)\u001b[0m\u001b[1;33m\u001b[0m\u001b[0m\n\u001b[0;32m      3\u001b[0m   .agg(F.collect_list(\"aid\").alias(\"aid_list\"),\n\u001b[0;32m      4\u001b[0m        F.collect_list(\"type\").alias(\"type_list\"))\n\u001b[0;32m      5\u001b[0m   \u001b[1;33m.\u001b[0m\u001b[0mshow\u001b[0m\u001b[1;33m(\u001b[0m\u001b[1;33m)\u001b[0m\u001b[1;33m\u001b[0m\u001b[0m\n",
      "\u001b[1;32mc:\\Users\\mayan\\anaconda3\\envs\\otto_pyenv\\lib\\site-packages\\pyspark\\sql\\dataframe.py\u001b[0m in \u001b[0;36mhead\u001b[1;34m(self, n)\u001b[0m\n\u001b[0;32m   1603\u001b[0m             \u001b[0mrs\u001b[0m \u001b[1;33m=\u001b[0m \u001b[0mself\u001b[0m\u001b[1;33m.\u001b[0m\u001b[0mhead\u001b[0m\u001b[1;33m(\u001b[0m\u001b[1;36m1\u001b[0m\u001b[1;33m)\u001b[0m\u001b[1;33m\u001b[0m\u001b[0m\n\u001b[0;32m   1604\u001b[0m             \u001b[1;32mreturn\u001b[0m \u001b[0mrs\u001b[0m\u001b[1;33m[\u001b[0m\u001b[1;36m0\u001b[0m\u001b[1;33m]\u001b[0m \u001b[1;32mif\u001b[0m \u001b[0mrs\u001b[0m \u001b[1;32melse\u001b[0m \u001b[1;32mNone\u001b[0m\u001b[1;33m\u001b[0m\u001b[0m\n\u001b[1;32m-> 1605\u001b[1;33m         \u001b[1;32mreturn\u001b[0m \u001b[0mself\u001b[0m\u001b[1;33m.\u001b[0m\u001b[0mtake\u001b[0m\u001b[1;33m(\u001b[0m\u001b[0mn\u001b[0m\u001b[1;33m)\u001b[0m\u001b[1;33m\u001b[0m\u001b[0m\n\u001b[0m\u001b[0;32m   1606\u001b[0m \u001b[1;33m\u001b[0m\u001b[0m\n\u001b[0;32m   1607\u001b[0m     \u001b[1;32mdef\u001b[0m \u001b[0mfirst\u001b[0m\u001b[1;33m(\u001b[0m\u001b[0mself\u001b[0m\u001b[1;33m)\u001b[0m\u001b[1;33m:\u001b[0m\u001b[1;33m\u001b[0m\u001b[0m\n",
      "\u001b[1;32mc:\\Users\\mayan\\anaconda3\\envs\\otto_pyenv\\lib\\site-packages\\pyspark\\sql\\dataframe.py\u001b[0m in \u001b[0;36mtake\u001b[1;34m(self, num)\u001b[0m\n\u001b[0;32m    742\u001b[0m         \u001b[1;33m[\u001b[0m\u001b[0mRow\u001b[0m\u001b[1;33m(\u001b[0m\u001b[0mage\u001b[0m\u001b[1;33m=\u001b[0m\u001b[1;36m2\u001b[0m\u001b[1;33m,\u001b[0m \u001b[0mname\u001b[0m\u001b[1;33m=\u001b[0m\u001b[1;34m'Alice'\u001b[0m\u001b[1;33m)\u001b[0m\u001b[1;33m,\u001b[0m \u001b[0mRow\u001b[0m\u001b[1;33m(\u001b[0m\u001b[0mage\u001b[0m\u001b[1;33m=\u001b[0m\u001b[1;36m5\u001b[0m\u001b[1;33m,\u001b[0m \u001b[0mname\u001b[0m\u001b[1;33m=\u001b[0m\u001b[1;34m'Bob'\u001b[0m\u001b[1;33m)\u001b[0m\u001b[1;33m]\u001b[0m\u001b[1;33m\u001b[0m\u001b[0m\n\u001b[0;32m    743\u001b[0m         \"\"\"\n\u001b[1;32m--> 744\u001b[1;33m         \u001b[1;32mreturn\u001b[0m \u001b[0mself\u001b[0m\u001b[1;33m.\u001b[0m\u001b[0mlimit\u001b[0m\u001b[1;33m(\u001b[0m\u001b[0mnum\u001b[0m\u001b[1;33m)\u001b[0m\u001b[1;33m.\u001b[0m\u001b[0mcollect\u001b[0m\u001b[1;33m(\u001b[0m\u001b[1;33m)\u001b[0m\u001b[1;33m\u001b[0m\u001b[0m\n\u001b[0m\u001b[0;32m    745\u001b[0m \u001b[1;33m\u001b[0m\u001b[0m\n\u001b[0;32m    746\u001b[0m     \u001b[1;32mdef\u001b[0m \u001b[0mtail\u001b[0m\u001b[1;33m(\u001b[0m\u001b[0mself\u001b[0m\u001b[1;33m,\u001b[0m \u001b[0mnum\u001b[0m\u001b[1;33m)\u001b[0m\u001b[1;33m:\u001b[0m\u001b[1;33m\u001b[0m\u001b[0m\n",
      "\u001b[1;32mc:\\Users\\mayan\\anaconda3\\envs\\otto_pyenv\\lib\\site-packages\\pyspark\\sql\\dataframe.py\u001b[0m in \u001b[0;36mlimit\u001b[1;34m(self, num)\u001b[0m\n\u001b[0;32m    729\u001b[0m         \u001b[1;33m[\u001b[0m\u001b[1;33m]\u001b[0m\u001b[1;33m\u001b[0m\u001b[0m\n\u001b[0;32m    730\u001b[0m         \"\"\"\n\u001b[1;32m--> 731\u001b[1;33m         \u001b[0mjdf\u001b[0m \u001b[1;33m=\u001b[0m \u001b[0mself\u001b[0m\u001b[1;33m.\u001b[0m\u001b[0m_jdf\u001b[0m\u001b[1;33m.\u001b[0m\u001b[0mlimit\u001b[0m\u001b[1;33m(\u001b[0m\u001b[0mnum\u001b[0m\u001b[1;33m)\u001b[0m\u001b[1;33m\u001b[0m\u001b[0m\n\u001b[0m\u001b[0;32m    732\u001b[0m         \u001b[1;32mreturn\u001b[0m \u001b[0mDataFrame\u001b[0m\u001b[1;33m(\u001b[0m\u001b[0mjdf\u001b[0m\u001b[1;33m,\u001b[0m \u001b[0mself\u001b[0m\u001b[1;33m.\u001b[0m\u001b[0msql_ctx\u001b[0m\u001b[1;33m)\u001b[0m\u001b[1;33m\u001b[0m\u001b[0m\n\u001b[0;32m    733\u001b[0m \u001b[1;33m\u001b[0m\u001b[0m\n",
      "\u001b[1;32mc:\\Users\\mayan\\anaconda3\\envs\\otto_pyenv\\lib\\site-packages\\py4j\\java_gateway.py\u001b[0m in \u001b[0;36m__call__\u001b[1;34m(self, *args)\u001b[0m\n\u001b[0;32m   1318\u001b[0m             \u001b[0mproto\u001b[0m\u001b[1;33m.\u001b[0m\u001b[0mEND_COMMAND_PART\u001b[0m\u001b[1;33m\u001b[0m\u001b[0m\n\u001b[0;32m   1319\u001b[0m \u001b[1;33m\u001b[0m\u001b[0m\n\u001b[1;32m-> 1320\u001b[1;33m         \u001b[0manswer\u001b[0m \u001b[1;33m=\u001b[0m \u001b[0mself\u001b[0m\u001b[1;33m.\u001b[0m\u001b[0mgateway_client\u001b[0m\u001b[1;33m.\u001b[0m\u001b[0msend_command\u001b[0m\u001b[1;33m(\u001b[0m\u001b[0mcommand\u001b[0m\u001b[1;33m)\u001b[0m\u001b[1;33m\u001b[0m\u001b[0m\n\u001b[0m\u001b[0;32m   1321\u001b[0m         return_value = get_return_value(\n\u001b[0;32m   1322\u001b[0m             answer, self.gateway_client, self.target_id, self.name)\n",
      "\u001b[1;32mc:\\Users\\mayan\\anaconda3\\envs\\otto_pyenv\\lib\\site-packages\\py4j\\java_gateway.py\u001b[0m in \u001b[0;36msend_command\u001b[1;34m(self, command, retry, binary)\u001b[0m\n\u001b[0;32m   1034\u001b[0m          \u001b[1;32mif\u001b[0m\u001b[0;31m \u001b[0m\u001b[0;31m`\u001b[0m\u001b[0mbinary\u001b[0m\u001b[0;31m`\u001b[0m \u001b[1;32mis\u001b[0m\u001b[0;31m \u001b[0m\u001b[0;31m`\u001b[0m\u001b[1;32mTrue\u001b[0m\u001b[0;31m`\u001b[0m\u001b[1;33m.\u001b[0m\u001b[1;33m\u001b[0m\u001b[0m\n\u001b[0;32m   1035\u001b[0m         \"\"\"\n\u001b[1;32m-> 1036\u001b[1;33m         \u001b[0mconnection\u001b[0m \u001b[1;33m=\u001b[0m \u001b[0mself\u001b[0m\u001b[1;33m.\u001b[0m\u001b[0m_get_connection\u001b[0m\u001b[1;33m(\u001b[0m\u001b[1;33m)\u001b[0m\u001b[1;33m\u001b[0m\u001b[0m\n\u001b[0m\u001b[0;32m   1037\u001b[0m         \u001b[1;32mtry\u001b[0m\u001b[1;33m:\u001b[0m\u001b[1;33m\u001b[0m\u001b[0m\n\u001b[0;32m   1038\u001b[0m             \u001b[0mresponse\u001b[0m \u001b[1;33m=\u001b[0m \u001b[0mconnection\u001b[0m\u001b[1;33m.\u001b[0m\u001b[0msend_command\u001b[0m\u001b[1;33m(\u001b[0m\u001b[0mcommand\u001b[0m\u001b[1;33m)\u001b[0m\u001b[1;33m\u001b[0m\u001b[0m\n",
      "\u001b[1;32mc:\\Users\\mayan\\anaconda3\\envs\\otto_pyenv\\lib\\site-packages\\py4j\\clientserver.py\u001b[0m in \u001b[0;36m_get_connection\u001b[1;34m(self)\u001b[0m\n\u001b[0;32m    279\u001b[0m \u001b[1;33m\u001b[0m\u001b[0m\n\u001b[0;32m    280\u001b[0m         \u001b[1;32mif\u001b[0m \u001b[0mconnection\u001b[0m \u001b[1;32mis\u001b[0m \u001b[1;32mNone\u001b[0m \u001b[1;32mor\u001b[0m \u001b[0mconnection\u001b[0m\u001b[1;33m.\u001b[0m\u001b[0msocket\u001b[0m \u001b[1;32mis\u001b[0m \u001b[1;32mNone\u001b[0m\u001b[1;33m:\u001b[0m\u001b[1;33m\u001b[0m\u001b[0m\n\u001b[1;32m--> 281\u001b[1;33m             \u001b[0mconnection\u001b[0m \u001b[1;33m=\u001b[0m \u001b[0mself\u001b[0m\u001b[1;33m.\u001b[0m\u001b[0m_create_new_connection\u001b[0m\u001b[1;33m(\u001b[0m\u001b[1;33m)\u001b[0m\u001b[1;33m\u001b[0m\u001b[0m\n\u001b[0m\u001b[0;32m    282\u001b[0m         \u001b[1;32mreturn\u001b[0m \u001b[0mconnection\u001b[0m\u001b[1;33m\u001b[0m\u001b[0m\n\u001b[0;32m    283\u001b[0m \u001b[1;33m\u001b[0m\u001b[0m\n",
      "\u001b[1;32mc:\\Users\\mayan\\anaconda3\\envs\\otto_pyenv\\lib\\site-packages\\py4j\\clientserver.py\u001b[0m in \u001b[0;36m_create_new_connection\u001b[1;34m(self)\u001b[0m\n\u001b[0;32m    286\u001b[0m             \u001b[0mself\u001b[0m\u001b[1;33m.\u001b[0m\u001b[0mjava_parameters\u001b[0m\u001b[1;33m,\u001b[0m \u001b[0mself\u001b[0m\u001b[1;33m.\u001b[0m\u001b[0mpython_parameters\u001b[0m\u001b[1;33m,\u001b[0m\u001b[1;33m\u001b[0m\u001b[0m\n\u001b[0;32m    287\u001b[0m             self.gateway_property, self)\n\u001b[1;32m--> 288\u001b[1;33m         \u001b[0mconnection\u001b[0m\u001b[1;33m.\u001b[0m\u001b[0mconnect_to_java_server\u001b[0m\u001b[1;33m(\u001b[0m\u001b[1;33m)\u001b[0m\u001b[1;33m\u001b[0m\u001b[0m\n\u001b[0m\u001b[0;32m    289\u001b[0m         \u001b[0mself\u001b[0m\u001b[1;33m.\u001b[0m\u001b[0mset_thread_connection\u001b[0m\u001b[1;33m(\u001b[0m\u001b[0mconnection\u001b[0m\u001b[1;33m)\u001b[0m\u001b[1;33m\u001b[0m\u001b[0m\n\u001b[0;32m    290\u001b[0m         \u001b[1;32mreturn\u001b[0m \u001b[0mconnection\u001b[0m\u001b[1;33m\u001b[0m\u001b[0m\n",
      "\u001b[1;32mc:\\Users\\mayan\\anaconda3\\envs\\otto_pyenv\\lib\\site-packages\\py4j\\clientserver.py\u001b[0m in \u001b[0;36mconnect_to_java_server\u001b[1;34m(self)\u001b[0m\n\u001b[0;32m    400\u001b[0m                 self.socket = self.ssl_context.wrap_socket(\n\u001b[0;32m    401\u001b[0m                     self.socket, server_hostname=self.java_address)\n\u001b[1;32m--> 402\u001b[1;33m             \u001b[0mself\u001b[0m\u001b[1;33m.\u001b[0m\u001b[0msocket\u001b[0m\u001b[1;33m.\u001b[0m\u001b[0mconnect\u001b[0m\u001b[1;33m(\u001b[0m\u001b[1;33m(\u001b[0m\u001b[0mself\u001b[0m\u001b[1;33m.\u001b[0m\u001b[0mjava_address\u001b[0m\u001b[1;33m,\u001b[0m \u001b[0mself\u001b[0m\u001b[1;33m.\u001b[0m\u001b[0mjava_port\u001b[0m\u001b[1;33m)\u001b[0m\u001b[1;33m)\u001b[0m\u001b[1;33m\u001b[0m\u001b[0m\n\u001b[0m\u001b[0;32m    403\u001b[0m             \u001b[0mself\u001b[0m\u001b[1;33m.\u001b[0m\u001b[0mstream\u001b[0m \u001b[1;33m=\u001b[0m \u001b[0mself\u001b[0m\u001b[1;33m.\u001b[0m\u001b[0msocket\u001b[0m\u001b[1;33m.\u001b[0m\u001b[0mmakefile\u001b[0m\u001b[1;33m(\u001b[0m\u001b[1;34m\"rb\"\u001b[0m\u001b[1;33m)\u001b[0m\u001b[1;33m\u001b[0m\u001b[0m\n\u001b[0;32m    404\u001b[0m             \u001b[0mself\u001b[0m\u001b[1;33m.\u001b[0m\u001b[0mis_connected\u001b[0m \u001b[1;33m=\u001b[0m \u001b[1;32mTrue\u001b[0m\u001b[1;33m\u001b[0m\u001b[0m\n",
      "\u001b[1;31mConnectionRefusedError\u001b[0m: [WinError 10061] No connection could be made because the target machine actively refused it"
     ]
    }
   ],
   "source": [
    "(sparkDF.head(10000)\n",
    "  .groupby(\"session\")\n",
    "  .agg(F.collect_list(\"aid\").alias(\"aid_list\"),\n",
    "       F.collect_list(\"type\").alias(\"type_list\"))\n",
    "  .show()\n",
    ")"
   ]
  },
  {
   "cell_type": "code",
   "execution_count": null,
   "metadata": {},
   "outputs": [],
   "source": []
  }
 ],
 "metadata": {
  "kernelspec": {
   "display_name": "otto_pyenv",
   "language": "python",
   "name": "python3"
  },
  "language_info": {
   "codemirror_mode": {
    "name": "ipython",
    "version": 3
   },
   "file_extension": ".py",
   "mimetype": "text/x-python",
   "name": "python",
   "nbconvert_exporter": "python",
   "pygments_lexer": "ipython3",
   "version": "3.7.0"
  },
  "orig_nbformat": 4,
  "vscode": {
   "interpreter": {
    "hash": "6f1c9587278e97f62d75f6fc837614e1974536c6f02b9721efd405020621fd2a"
   }
  }
 },
 "nbformat": 4,
 "nbformat_minor": 2
}
